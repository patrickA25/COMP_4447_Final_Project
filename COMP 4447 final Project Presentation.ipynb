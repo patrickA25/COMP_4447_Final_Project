{
 "cells": [
  {
   "cell_type": "code",
   "execution_count": 12,
   "metadata": {},
   "outputs": [],
   "source": [
    "import pycoingecko as pycoin\n",
    "import pandas as pd\n",
    "import numpy as np\n",
    "import Coin_Table_Code as ctc\n",
    "from rich.console import Console\n",
    "from rich.table import Table\n",
    "import matplotlib.pyplot as plt\n",
    "import datetime"
   ]
  },
  {
   "cell_type": "code",
   "execution_count": 13,
   "metadata": {},
   "outputs": [],
   "source": [
    "def get_token_list(cg):\n",
    "    cg.get_coins_list()\n",
    "    print((cg.get_coins_list()))"
   ]
  },
  {
   "cell_type": "code",
   "execution_count": 14,
   "metadata": {},
   "outputs": [],
   "source": [
    "def testing_coin_connection(cg):\n",
    "    test_con_value = cg.ping()\n",
    "    if test_con_value == {'gecko_says': '(V3) To the Moon!'}:\n",
    "        return 'Connection is good'\n",
    "    else:\n",
    "        return ['Connection not good',test_con_value]"
   ]
  },
  {
   "cell_type": "code",
   "execution_count": 15,
   "metadata": {},
   "outputs": [],
   "source": [
    "def main():\n",
    "    cg = pycoin.CoinGeckoAPI()\n",
    "    print(ctc.testing_coin_connection(cg))\n",
    "    ctc.make_top_5_table(cg,['bitcoin', 'tether', 'ethereum','solana','binance coin'])\n",
    "    ctc.top_7_table(cg)"
   ]
  },
  {
   "cell_type": "code",
   "execution_count": 16,
   "metadata": {},
   "outputs": [],
   "source": [
    "def get_token_list(cg):\n",
    "    return_data = cg.get_coins_list()\n",
    "    return_data = pd.DataFrame(return_data)\n",
    "    return return_data"
   ]
  },
  {
   "cell_type": "code",
   "execution_count": 17,
   "metadata": {},
   "outputs": [],
   "source": [
    "def pull_in_top_5_data(cg,cryp_list):\n",
    "    data_pull = cg.get_price(ids =cryp_list,vs_currencies = 'usd')\n",
    "    data_pull_DF =pd.DataFrame.from_dict(data_pull,orient='index')\n",
    "    data_pull_DF.index.name = 'coin_name'\n",
    "    data_pull_DF.reset_index(inplace=True)\n",
    "    data_pull_DF = data_pull_DF.sort_values(by=['usd'],ascending=False)\n",
    "    return data_pull_DF"
   ]
  },
  {
   "cell_type": "code",
   "execution_count": 18,
   "metadata": {},
   "outputs": [],
   "source": [
    "def make_top_5_table(cg,cryp_list):\n",
    "    data_pull_DF = pull_in_top_5_data(cg,cryp_list)\n",
    "    \n",
    "    table = Table(title=\"Top 5 Coins\")\n",
    "    table.add_column(\"Coin\",justify=\"right\",style=\"cyan\")\n",
    "    table.add_column(\"Price\",justify=\"right\",style=\"green\")\n",
    "    \n",
    "    table.add_row(str(data_pull_DF.iloc[0][\"coin_name\"]),str(data_pull_DF.iloc[0][\"usd\"]))\n",
    "    table.add_row(str(data_pull_DF.iloc[1][\"coin_name\"]),str(data_pull_DF.iloc[1][\"usd\"]))\n",
    "    table.add_row(str(data_pull_DF.iloc[2][\"coin_name\"]),str(data_pull_DF.iloc[2][\"usd\"]))\n",
    "    table.add_row(str(data_pull_DF.iloc[3][\"coin_name\"]),str(data_pull_DF.iloc[3][\"usd\"]))\n",
    "    table.add_row(str(data_pull_DF.iloc[4][\"coin_name\"]),str(data_pull_DF.iloc[4][\"usd\"]))\n",
    "    console = Console()\n",
    "    console.print(table)"
   ]
  },
  {
   "cell_type": "code",
   "execution_count": 33,
   "metadata": {},
   "outputs": [],
   "source": [
    "def top_7_table(cg):\n",
    "    raw_data = cg.get_search_trending()\n",
    "    bt_price = cg.get_price('bitcoin',vs_currencies = 'usd')\n",
    "    bt_price = ((pd.json_normalize(bt_price)))\n",
    "    #top_7_data_DF =pd.DataFrame.from_dict(raw_data['coins'],orient='index')\n",
    "    top_7_data_DF = (pd.json_normalize(raw_data,record_path = ['coins']))\n",
    "    top_7_data_DF['US_Value'] = top_7_data_DF['item.price_btc']/int(bt_price['bitcoin.usd'])\n",
    "\n",
    "    table = Table(title=\"Top 7 Searched Coins on CoinGecko\")\n",
    "    table.add_column(\"Rank\",justify=\"center\",style=\"white\")\n",
    "    table.add_column(\"Coin Name\",justify=\"center\",style=\"cyan\")\n",
    "    table.add_column(\"Coin ID\",justify=\"center\",style=\"white\")\n",
    "    table.add_column(\"Coin Symbol\",justify=\"center\",style=\"white\")\n",
    "    table.add_column(\"Market Cap\",justify=\"center\",style=\"white\")\n",
    "    table.add_column(\"Price BTC\",justify=\"center\",style=\"green\")\n",
    "    table.add_column(\"Price USD\",justify=\"center\",style=\"green\")\n",
    "\n",
    "    for i in top_7_data_DF.index:\n",
    "        table.add_row(str(top_7_data_DF.iloc[i][\"item.score\"]+1),\n",
    "                    str(top_7_data_DF.iloc[i][\"item.name\"]),\n",
    "                    str(top_7_data_DF.iloc[i][\"item.id\"]),\n",
    "                    str(top_7_data_DF.iloc[i][\"item.symbol\"]),\n",
    "                    str(top_7_data_DF.iloc[i][\"item.market_cap_rank\"]),\n",
    "                    str(top_7_data_DF.iloc[i][\"item.price_btc\"]),\n",
    "                    \"$\" + str(top_7_data_DF.iloc[i][\"US_Value\"].round(2)))\n",
    "\n",
    "    console = Console()\n",
    "    console.print(table)\n"
   ]
  },
  {
   "cell_type": "code",
   "execution_count": 20,
   "metadata": {},
   "outputs": [],
   "source": [
    "def Chart_Analysis(api_key,days_back,Coin,info):\n",
    "    if info == [] or type(info) != list:\n",
    "        raise ValueError('Check if info list is populated.')\n",
    "    info_set = ['Price','Total Volumes','Market Cap']\n",
    "    if not(set(info).issubset(info_set)):\n",
    "        raise ValueError('Check all items in info variable.')\n",
    "    \n",
    "    raw_data = api_key.get_coin_market_chart_by_id(id = Coin,vs_currency= 'usd',days = days_back)\n",
    "    \n",
    "    fig, axs = plt.subplots(1,len(info),squeeze=False)\n",
    "    for plot in range(len(info)):\n",
    "        if info[plot] == 'Price':\n",
    "            price_data = pd.json_normalize(raw_data,record_path = 'prices')\n",
    "            price_data['clean_time'] = pd.to_datetime(price_data[0],unit = 'ms')\n",
    "            price_data['clean_time'] = pd.to_datetime(price_data['clean_time'],format = '%Y-%m-%d')\n",
    "            price_data['price'] = price_data[1]\n",
    "            axs[0,plot].plot(price_data['clean_time'],price_data['price'])\n",
    "            axs[0,plot].set_title(f'{Coin.capitalize()} Price Vs Time')\n",
    "            axs[0,plot].tick_params(labelrotation=45)\n",
    "            axs[0,plot].yaxis.set_major_formatter('${x:,.0f}')\n",
    "        elif info[plot] == 'Market Cap':\n",
    "            MC_data = pd.json_normalize(raw_data,record_path = 'market_caps')\n",
    "            MC_data['clean_time'] = (pd.to_datetime(MC_data[0],unit = 'ms'))\n",
    "            MC_data['Market_Cap'] = MC_data[1]\n",
    "            axs[0,plot].plot(MC_data['clean_time'],MC_data['Market_Cap'])\n",
    "            axs[0,plot].set_title(f'{Coin.capitalize()} Market Cap Vs Time')\n",
    "            axs[0,plot].tick_params(labelrotation=45)\n",
    "        elif info[plot] == 'Total Volumes':\n",
    "            TV_data = pd.json_normalize(raw_data,record_path = 'total_volumes')\n",
    "            TV_data['clean_time'] = (pd.to_datetime(TV_data[0],unit = 'ms'))\n",
    "            TV_data['total_volumes'] = TV_data[1]\n",
    "            axs[0,plot].plot(TV_data['clean_time'],TV_data['total_volumes'])\n",
    "            axs[0,plot].set_title(f'{Coin.capitalize()} Total Volumes VS Time')\n",
    "            axs[0,plot].tick_params(labelrotation=45)\n",
    "    plt.show()\n"
   ]
  },
  {
   "cell_type": "code",
   "execution_count": 21,
   "metadata": {},
   "outputs": [
    {
     "data": {
      "text/html": [
       "<div>\n",
       "<style scoped>\n",
       "    .dataframe tbody tr th:only-of-type {\n",
       "        vertical-align: middle;\n",
       "    }\n",
       "\n",
       "    .dataframe tbody tr th {\n",
       "        vertical-align: top;\n",
       "    }\n",
       "\n",
       "    .dataframe thead th {\n",
       "        text-align: right;\n",
       "    }\n",
       "</style>\n",
       "<table border=\"1\" class=\"dataframe\">\n",
       "  <thead>\n",
       "    <tr style=\"text-align: right;\">\n",
       "      <th></th>\n",
       "      <th>coin_name</th>\n",
       "      <th>usd</th>\n",
       "    </tr>\n",
       "  </thead>\n",
       "  <tbody>\n",
       "    <tr>\n",
       "      <th>1</th>\n",
       "      <td>bitcoin</td>\n",
       "      <td>39192.000</td>\n",
       "    </tr>\n",
       "    <tr>\n",
       "      <th>2</th>\n",
       "      <td>ethereum</td>\n",
       "      <td>2590.670</td>\n",
       "    </tr>\n",
       "    <tr>\n",
       "      <th>0</th>\n",
       "      <td>binancecoin</td>\n",
       "      <td>375.660</td>\n",
       "    </tr>\n",
       "    <tr>\n",
       "      <th>3</th>\n",
       "      <td>solana</td>\n",
       "      <td>82.620</td>\n",
       "    </tr>\n",
       "    <tr>\n",
       "      <th>4</th>\n",
       "      <td>tether</td>\n",
       "      <td>1.001</td>\n",
       "    </tr>\n",
       "  </tbody>\n",
       "</table>\n",
       "</div>"
      ],
      "text/plain": [
       "     coin_name        usd\n",
       "1      bitcoin  39192.000\n",
       "2     ethereum   2590.670\n",
       "0  binancecoin    375.660\n",
       "3       solana     82.620\n",
       "4       tether      1.001"
      ]
     },
     "execution_count": 21,
     "metadata": {},
     "output_type": "execute_result"
    }
   ],
   "source": [
    "cg = pycoin.CoinGeckoAPI()\n",
    "pull_in_top_5_data(cg,['bitcoin', 'tether', 'ethereum','solana','binance coin'])"
   ]
  },
  {
   "cell_type": "code",
   "execution_count": 22,
   "metadata": {},
   "outputs": [
    {
     "data": {
      "text/html": [
       "<pre style=\"white-space:pre;overflow-x:auto;line-height:normal;font-family:Menlo,'DejaVu Sans Mono',consolas,'Courier New',monospace\"><span style=\"font-style: italic\">       Top 5 Coins       </span>\n",
       "┏━━━━━━━━━━━━━┳━━━━━━━━━┓\n",
       "┃<span style=\"font-weight: bold\">        Coin </span>┃<span style=\"font-weight: bold\">   Price </span>┃\n",
       "┡━━━━━━━━━━━━━╇━━━━━━━━━┩\n",
       "│<span style=\"color: #008080; text-decoration-color: #008080\">     bitcoin </span>│<span style=\"color: #008000; text-decoration-color: #008000\"> 39192.0 </span>│\n",
       "│<span style=\"color: #008080; text-decoration-color: #008080\">    ethereum </span>│<span style=\"color: #008000; text-decoration-color: #008000\"> 2590.67 </span>│\n",
       "│<span style=\"color: #008080; text-decoration-color: #008080\"> binancecoin </span>│<span style=\"color: #008000; text-decoration-color: #008000\">  375.66 </span>│\n",
       "│<span style=\"color: #008080; text-decoration-color: #008080\">      solana </span>│<span style=\"color: #008000; text-decoration-color: #008000\">   82.62 </span>│\n",
       "│<span style=\"color: #008080; text-decoration-color: #008080\">      tether </span>│<span style=\"color: #008000; text-decoration-color: #008000\">   1.001 </span>│\n",
       "└─────────────┴─────────┘\n",
       "</pre>\n"
      ],
      "text/plain": [
       "\u001b[3m       Top 5 Coins       \u001b[0m\n",
       "┏━━━━━━━━━━━━━┳━━━━━━━━━┓\n",
       "┃\u001b[1m \u001b[0m\u001b[1m       Coin\u001b[0m\u001b[1m \u001b[0m┃\u001b[1m \u001b[0m\u001b[1m  Price\u001b[0m\u001b[1m \u001b[0m┃\n",
       "┡━━━━━━━━━━━━━╇━━━━━━━━━┩\n",
       "│\u001b[36m \u001b[0m\u001b[36m    bitcoin\u001b[0m\u001b[36m \u001b[0m│\u001b[32m \u001b[0m\u001b[32m39192.0\u001b[0m\u001b[32m \u001b[0m│\n",
       "│\u001b[36m \u001b[0m\u001b[36m   ethereum\u001b[0m\u001b[36m \u001b[0m│\u001b[32m \u001b[0m\u001b[32m2590.67\u001b[0m\u001b[32m \u001b[0m│\n",
       "│\u001b[36m \u001b[0m\u001b[36mbinancecoin\u001b[0m\u001b[36m \u001b[0m│\u001b[32m \u001b[0m\u001b[32m 375.66\u001b[0m\u001b[32m \u001b[0m│\n",
       "│\u001b[36m \u001b[0m\u001b[36m     solana\u001b[0m\u001b[36m \u001b[0m│\u001b[32m \u001b[0m\u001b[32m  82.62\u001b[0m\u001b[32m \u001b[0m│\n",
       "│\u001b[36m \u001b[0m\u001b[36m     tether\u001b[0m\u001b[36m \u001b[0m│\u001b[32m \u001b[0m\u001b[32m  1.001\u001b[0m\u001b[32m \u001b[0m│\n",
       "└─────────────┴─────────┘\n"
      ]
     },
     "metadata": {},
     "output_type": "display_data"
    }
   ],
   "source": [
    "make_top_5_table(cg,['bitcoin', 'tether', 'ethereum','solana','binance coin'])"
   ]
  },
  {
   "cell_type": "code",
   "execution_count": 34,
   "metadata": {},
   "outputs": [
    {
     "data": {
      "text/html": [
       "<pre style=\"white-space:pre;overflow-x:auto;line-height:normal;font-family:Menlo,'DejaVu Sans Mono',consolas,'Courier New',monospace\"><span style=\"font-style: italic\">                              Top 7 Searched Coins on CoinGecko                              </span>\n",
       "┏━━━━━━┳━━━━━━━━━━━━━┳━━━━━━━━━━━━━━┳━━━━━━━━━━━━━┳━━━━━━━━━━━━┳━━━━━━━━━━━━━━━━┳━━━━━━━━━━━┓\n",
       "┃<span style=\"font-weight: bold\"> Rank </span>┃<span style=\"font-weight: bold\">  Coin Name  </span>┃<span style=\"font-weight: bold\">   Coin ID    </span>┃<span style=\"font-weight: bold\"> Coin Symbol </span>┃<span style=\"font-weight: bold\"> Market Cap </span>┃<span style=\"font-weight: bold\">   Price BTC    </span>┃<span style=\"font-weight: bold\"> Price USD </span>┃\n",
       "┡━━━━━━╇━━━━━━━━━━━━━╇━━━━━━━━━━━━━━╇━━━━━━━━━━━━━╇━━━━━━━━━━━━╇━━━━━━━━━━━━━━━━╇━━━━━━━━━━━┩\n",
       "│<span style=\"color: #c0c0c0; text-decoration-color: #c0c0c0\">  1   </span>│<span style=\"color: #008080; text-decoration-color: #008080\"> Metis Token </span>│<span style=\"color: #c0c0c0; text-decoration-color: #c0c0c0\"> metis-token  </span>│<span style=\"color: #c0c0c0; text-decoration-color: #c0c0c0\">    METIS    </span>│<span style=\"color: #c0c0c0; text-decoration-color: #c0c0c0\">    150     </span>│<span style=\"color: #008000; text-decoration-color: #008000\"> 0.00397235223… </span>│<span style=\"color: #008000; text-decoration-color: #008000\">   $0.0    </span>│\n",
       "│<span style=\"color: #c0c0c0; text-decoration-color: #c0c0c0\">  2   </span>│<span style=\"color: #008080; text-decoration-color: #008080\">   Fantom    </span>│<span style=\"color: #c0c0c0; text-decoration-color: #c0c0c0\">    fantom    </span>│<span style=\"color: #c0c0c0; text-decoration-color: #c0c0c0\">     FTM     </span>│<span style=\"color: #c0c0c0; text-decoration-color: #c0c0c0\">     44     </span>│<span style=\"color: #008000; text-decoration-color: #008000\"> 3.06100854783… </span>│<span style=\"color: #008000; text-decoration-color: #008000\">   $0.0    </span>│\n",
       "│<span style=\"color: #c0c0c0; text-decoration-color: #c0c0c0\">  3   </span>│<span style=\"color: #008080; text-decoration-color: #008080\">    JUNO     </span>│<span style=\"color: #c0c0c0; text-decoration-color: #c0c0c0\"> juno-network </span>│<span style=\"color: #c0c0c0; text-decoration-color: #c0c0c0\">    JUNO     </span>│<span style=\"color: #c0c0c0; text-decoration-color: #c0c0c0\">     68     </span>│<span style=\"color: #008000; text-decoration-color: #008000\"> 0.00089471351… </span>│<span style=\"color: #008000; text-decoration-color: #008000\">   $0.0    </span>│\n",
       "│<span style=\"color: #c0c0c0; text-decoration-color: #c0c0c0\">  4   </span>│<span style=\"color: #008080; text-decoration-color: #008080\">    Gala     </span>│<span style=\"color: #c0c0c0; text-decoration-color: #c0c0c0\">     gala     </span>│<span style=\"color: #c0c0c0; text-decoration-color: #c0c0c0\">    GALA     </span>│<span style=\"color: #c0c0c0; text-decoration-color: #c0c0c0\">     63     </span>│<span style=\"color: #008000; text-decoration-color: #008000\"> 6.03110548849… </span>│<span style=\"color: #008000; text-decoration-color: #008000\">   $0.0    </span>│\n",
       "│<span style=\"color: #c0c0c0; text-decoration-color: #c0c0c0\">  5   </span>│<span style=\"color: #008080; text-decoration-color: #008080\">    STEPN    </span>│<span style=\"color: #c0c0c0; text-decoration-color: #c0c0c0\">    stepn     </span>│<span style=\"color: #c0c0c0; text-decoration-color: #c0c0c0\">     GMT     </span>│<span style=\"color: #c0c0c0; text-decoration-color: #c0c0c0\">    275     </span>│<span style=\"color: #008000; text-decoration-color: #008000\"> 7.63004102076… </span>│<span style=\"color: #008000; text-decoration-color: #008000\">   $0.0    </span>│\n",
       "│<span style=\"color: #c0c0c0; text-decoration-color: #c0c0c0\">  6   </span>│<span style=\"color: #008080; text-decoration-color: #008080\">    Terra    </span>│<span style=\"color: #c0c0c0; text-decoration-color: #c0c0c0\">  terra-luna  </span>│<span style=\"color: #c0c0c0; text-decoration-color: #c0c0c0\">    LUNA     </span>│<span style=\"color: #c0c0c0; text-decoration-color: #c0c0c0\">     7      </span>│<span style=\"color: #008000; text-decoration-color: #008000\"> 0.00224116522… </span>│<span style=\"color: #008000; text-decoration-color: #008000\">   $0.0    </span>│\n",
       "│<span style=\"color: #c0c0c0; text-decoration-color: #c0c0c0\">  7   </span>│<span style=\"color: #008080; text-decoration-color: #008080\">     BNB     </span>│<span style=\"color: #c0c0c0; text-decoration-color: #c0c0c0\"> binancecoin  </span>│<span style=\"color: #c0c0c0; text-decoration-color: #c0c0c0\">     BNB     </span>│<span style=\"color: #c0c0c0; text-decoration-color: #c0c0c0\">     4      </span>│<span style=\"color: #008000; text-decoration-color: #008000\"> 0.00958929067… </span>│<span style=\"color: #008000; text-decoration-color: #008000\">   $0.0    </span>│\n",
       "└──────┴─────────────┴──────────────┴─────────────┴────────────┴────────────────┴───────────┘\n",
       "</pre>\n"
      ],
      "text/plain": [
       "\u001b[3m                              Top 7 Searched Coins on CoinGecko                              \u001b[0m\n",
       "┏━━━━━━┳━━━━━━━━━━━━━┳━━━━━━━━━━━━━━┳━━━━━━━━━━━━━┳━━━━━━━━━━━━┳━━━━━━━━━━━━━━━━┳━━━━━━━━━━━┓\n",
       "┃\u001b[1m \u001b[0m\u001b[1mRank\u001b[0m\u001b[1m \u001b[0m┃\u001b[1m \u001b[0m\u001b[1m Coin Name \u001b[0m\u001b[1m \u001b[0m┃\u001b[1m \u001b[0m\u001b[1m  Coin ID   \u001b[0m\u001b[1m \u001b[0m┃\u001b[1m \u001b[0m\u001b[1mCoin Symbol\u001b[0m\u001b[1m \u001b[0m┃\u001b[1m \u001b[0m\u001b[1mMarket Cap\u001b[0m\u001b[1m \u001b[0m┃\u001b[1m \u001b[0m\u001b[1m  Price BTC   \u001b[0m\u001b[1m \u001b[0m┃\u001b[1m \u001b[0m\u001b[1mPrice USD\u001b[0m\u001b[1m \u001b[0m┃\n",
       "┡━━━━━━╇━━━━━━━━━━━━━╇━━━━━━━━━━━━━━╇━━━━━━━━━━━━━╇━━━━━━━━━━━━╇━━━━━━━━━━━━━━━━╇━━━━━━━━━━━┩\n",
       "│\u001b[37m \u001b[0m\u001b[37m 1  \u001b[0m\u001b[37m \u001b[0m│\u001b[36m \u001b[0m\u001b[36mMetis Token\u001b[0m\u001b[36m \u001b[0m│\u001b[37m \u001b[0m\u001b[37mmetis-token \u001b[0m\u001b[37m \u001b[0m│\u001b[37m \u001b[0m\u001b[37m   METIS   \u001b[0m\u001b[37m \u001b[0m│\u001b[37m \u001b[0m\u001b[37m   150    \u001b[0m\u001b[37m \u001b[0m│\u001b[32m \u001b[0m\u001b[32m0.00397235223…\u001b[0m\u001b[32m \u001b[0m│\u001b[32m \u001b[0m\u001b[32m  $0.0   \u001b[0m\u001b[32m \u001b[0m│\n",
       "│\u001b[37m \u001b[0m\u001b[37m 2  \u001b[0m\u001b[37m \u001b[0m│\u001b[36m \u001b[0m\u001b[36m  Fantom   \u001b[0m\u001b[36m \u001b[0m│\u001b[37m \u001b[0m\u001b[37m   fantom   \u001b[0m\u001b[37m \u001b[0m│\u001b[37m \u001b[0m\u001b[37m    FTM    \u001b[0m\u001b[37m \u001b[0m│\u001b[37m \u001b[0m\u001b[37m    44    \u001b[0m\u001b[37m \u001b[0m│\u001b[32m \u001b[0m\u001b[32m3.06100854783…\u001b[0m\u001b[32m \u001b[0m│\u001b[32m \u001b[0m\u001b[32m  $0.0   \u001b[0m\u001b[32m \u001b[0m│\n",
       "│\u001b[37m \u001b[0m\u001b[37m 3  \u001b[0m\u001b[37m \u001b[0m│\u001b[36m \u001b[0m\u001b[36m   JUNO    \u001b[0m\u001b[36m \u001b[0m│\u001b[37m \u001b[0m\u001b[37mjuno-network\u001b[0m\u001b[37m \u001b[0m│\u001b[37m \u001b[0m\u001b[37m   JUNO    \u001b[0m\u001b[37m \u001b[0m│\u001b[37m \u001b[0m\u001b[37m    68    \u001b[0m\u001b[37m \u001b[0m│\u001b[32m \u001b[0m\u001b[32m0.00089471351…\u001b[0m\u001b[32m \u001b[0m│\u001b[32m \u001b[0m\u001b[32m  $0.0   \u001b[0m\u001b[32m \u001b[0m│\n",
       "│\u001b[37m \u001b[0m\u001b[37m 4  \u001b[0m\u001b[37m \u001b[0m│\u001b[36m \u001b[0m\u001b[36m   Gala    \u001b[0m\u001b[36m \u001b[0m│\u001b[37m \u001b[0m\u001b[37m    gala    \u001b[0m\u001b[37m \u001b[0m│\u001b[37m \u001b[0m\u001b[37m   GALA    \u001b[0m\u001b[37m \u001b[0m│\u001b[37m \u001b[0m\u001b[37m    63    \u001b[0m\u001b[37m \u001b[0m│\u001b[32m \u001b[0m\u001b[32m6.03110548849…\u001b[0m\u001b[32m \u001b[0m│\u001b[32m \u001b[0m\u001b[32m  $0.0   \u001b[0m\u001b[32m \u001b[0m│\n",
       "│\u001b[37m \u001b[0m\u001b[37m 5  \u001b[0m\u001b[37m \u001b[0m│\u001b[36m \u001b[0m\u001b[36m   STEPN   \u001b[0m\u001b[36m \u001b[0m│\u001b[37m \u001b[0m\u001b[37m   stepn    \u001b[0m\u001b[37m \u001b[0m│\u001b[37m \u001b[0m\u001b[37m    GMT    \u001b[0m\u001b[37m \u001b[0m│\u001b[37m \u001b[0m\u001b[37m   275    \u001b[0m\u001b[37m \u001b[0m│\u001b[32m \u001b[0m\u001b[32m7.63004102076…\u001b[0m\u001b[32m \u001b[0m│\u001b[32m \u001b[0m\u001b[32m  $0.0   \u001b[0m\u001b[32m \u001b[0m│\n",
       "│\u001b[37m \u001b[0m\u001b[37m 6  \u001b[0m\u001b[37m \u001b[0m│\u001b[36m \u001b[0m\u001b[36m   Terra   \u001b[0m\u001b[36m \u001b[0m│\u001b[37m \u001b[0m\u001b[37m terra-luna \u001b[0m\u001b[37m \u001b[0m│\u001b[37m \u001b[0m\u001b[37m   LUNA    \u001b[0m\u001b[37m \u001b[0m│\u001b[37m \u001b[0m\u001b[37m    7     \u001b[0m\u001b[37m \u001b[0m│\u001b[32m \u001b[0m\u001b[32m0.00224116522…\u001b[0m\u001b[32m \u001b[0m│\u001b[32m \u001b[0m\u001b[32m  $0.0   \u001b[0m\u001b[32m \u001b[0m│\n",
       "│\u001b[37m \u001b[0m\u001b[37m 7  \u001b[0m\u001b[37m \u001b[0m│\u001b[36m \u001b[0m\u001b[36m    BNB    \u001b[0m\u001b[36m \u001b[0m│\u001b[37m \u001b[0m\u001b[37mbinancecoin \u001b[0m\u001b[37m \u001b[0m│\u001b[37m \u001b[0m\u001b[37m    BNB    \u001b[0m\u001b[37m \u001b[0m│\u001b[37m \u001b[0m\u001b[37m    4     \u001b[0m\u001b[37m \u001b[0m│\u001b[32m \u001b[0m\u001b[32m0.00958929067…\u001b[0m\u001b[32m \u001b[0m│\u001b[32m \u001b[0m\u001b[32m  $0.0   \u001b[0m\u001b[32m \u001b[0m│\n",
       "└──────┴─────────────┴──────────────┴─────────────┴────────────┴────────────────┴───────────┘\n"
      ]
     },
     "metadata": {},
     "output_type": "display_data"
    }
   ],
   "source": [
    "top_7_table(cg)"
   ]
  },
  {
   "cell_type": "code",
   "execution_count": 24,
   "metadata": {},
   "outputs": [
    {
     "data": {
      "text/html": [
       "<div>\n",
       "<style scoped>\n",
       "    .dataframe tbody tr th:only-of-type {\n",
       "        vertical-align: middle;\n",
       "    }\n",
       "\n",
       "    .dataframe tbody tr th {\n",
       "        vertical-align: top;\n",
       "    }\n",
       "\n",
       "    .dataframe thead th {\n",
       "        text-align: right;\n",
       "    }\n",
       "</style>\n",
       "<table border=\"1\" class=\"dataframe\">\n",
       "  <thead>\n",
       "    <tr style=\"text-align: right;\">\n",
       "      <th></th>\n",
       "      <th>id</th>\n",
       "      <th>symbol</th>\n",
       "      <th>name</th>\n",
       "    </tr>\n",
       "  </thead>\n",
       "  <tbody>\n",
       "    <tr>\n",
       "      <th>0</th>\n",
       "      <td></td>\n",
       "      <td>aapt</td>\n",
       "      <td>AAptitude</td>\n",
       "    </tr>\n",
       "    <tr>\n",
       "      <th>1</th>\n",
       "      <td>01coin</td>\n",
       "      <td>zoc</td>\n",
       "      <td>01coin</td>\n",
       "    </tr>\n",
       "    <tr>\n",
       "      <th>2</th>\n",
       "      <td>0-5x-long-algorand-token</td>\n",
       "      <td>algohalf</td>\n",
       "      <td>0.5X Long Algorand Token</td>\n",
       "    </tr>\n",
       "    <tr>\n",
       "      <th>3</th>\n",
       "      <td>0-5x-long-altcoin-index-token</td>\n",
       "      <td>althalf</td>\n",
       "      <td>0.5X Long Altcoin Index Token</td>\n",
       "    </tr>\n",
       "    <tr>\n",
       "      <th>4</th>\n",
       "      <td>0-5x-long-ascendex-token-token</td>\n",
       "      <td>asdhalf</td>\n",
       "      <td>0.5X Long AscendEx Token Token</td>\n",
       "    </tr>\n",
       "    <tr>\n",
       "      <th>...</th>\n",
       "      <td>...</td>\n",
       "      <td>...</td>\n",
       "      <td>...</td>\n",
       "    </tr>\n",
       "    <tr>\n",
       "      <th>13087</th>\n",
       "      <td>zyro</td>\n",
       "      <td>zyro</td>\n",
       "      <td>Zyro</td>\n",
       "    </tr>\n",
       "    <tr>\n",
       "      <th>13088</th>\n",
       "      <td>zyrri</td>\n",
       "      <td>zyr</td>\n",
       "      <td>Zyrri</td>\n",
       "    </tr>\n",
       "    <tr>\n",
       "      <th>13089</th>\n",
       "      <td>zytara-dollar</td>\n",
       "      <td>zusd</td>\n",
       "      <td>Zytara Dollar</td>\n",
       "    </tr>\n",
       "    <tr>\n",
       "      <th>13090</th>\n",
       "      <td>zyx</td>\n",
       "      <td>zyx</td>\n",
       "      <td>ZYX</td>\n",
       "    </tr>\n",
       "    <tr>\n",
       "      <th>13091</th>\n",
       "      <td>zzz-finance-v2</td>\n",
       "      <td>zzzv2</td>\n",
       "      <td>zzz.finance v2</td>\n",
       "    </tr>\n",
       "  </tbody>\n",
       "</table>\n",
       "<p>13092 rows × 3 columns</p>\n",
       "</div>"
      ],
      "text/plain": [
       "                                   id    symbol  \\\n",
       "0                                          aapt   \n",
       "1                              01coin       zoc   \n",
       "2            0-5x-long-algorand-token  algohalf   \n",
       "3       0-5x-long-altcoin-index-token   althalf   \n",
       "4      0-5x-long-ascendex-token-token   asdhalf   \n",
       "...                               ...       ...   \n",
       "13087                            zyro      zyro   \n",
       "13088                           zyrri       zyr   \n",
       "13089                   zytara-dollar      zusd   \n",
       "13090                             zyx       zyx   \n",
       "13091                  zzz-finance-v2     zzzv2   \n",
       "\n",
       "                                 name  \n",
       "0                           AAptitude  \n",
       "1                              01coin  \n",
       "2            0.5X Long Algorand Token  \n",
       "3       0.5X Long Altcoin Index Token  \n",
       "4      0.5X Long AscendEx Token Token  \n",
       "...                               ...  \n",
       "13087                            Zyro  \n",
       "13088                           Zyrri  \n",
       "13089                   Zytara Dollar  \n",
       "13090                             ZYX  \n",
       "13091                  zzz.finance v2  \n",
       "\n",
       "[13092 rows x 3 columns]"
      ]
     },
     "execution_count": 24,
     "metadata": {},
     "output_type": "execute_result"
    }
   ],
   "source": [
    "get_token_list(cg)\n"
   ]
  },
  {
   "cell_type": "code",
   "execution_count": 25,
   "metadata": {},
   "outputs": [
    {
     "data": {
      "image/png": "[encoded data removed]",
      "text/plain": [
       "<Figure size 432x288 with 2 Axes>"
      ]
     },
     "metadata": {
      "needs_background": "light"
     },
     "output_type": "display_data"
    }
   ],
   "source": [
    "cg = pycoin.CoinGeckoAPI()\n",
    "Chart_Analysis(cg,100,'bitcoin',['Price','Total Volumes'])"
   ]
  },
  {
   "cell_type": "code",
   "execution_count": 26,
   "metadata": {},
   "outputs": [
    {
     "data": {
      "image/png": "[encoded data removed]",
      "text/plain": [
       "<Figure size 432x288 with 3 Axes>"
      ]
     },
     "metadata": {
      "needs_background": "light"
     },
     "output_type": "display_data"
    }
   ],
   "source": [
    "Chart_Analysis(cg,100,'bitcoin',['Price','Total Volumes','Market Cap'])"
   ]
  },
  {
   "cell_type": "code",
   "execution_count": null,
   "metadata": {},
   "outputs": [],
   "source": []
  }
 ],
 "metadata": {
  "kernelspec": {
   "display_name": "Python 3 (ipykernel)",
   "language": "python",
   "name": "python3"
  },
  "language_info": {
   "codemirror_mode": {
    "name": "ipython",
    "version": 3
   },
   "file_extension": ".py",
   "mimetype": "text/x-python",
   "name": "python",
   "nbconvert_exporter": "python",
   "pygments_lexer": "ipython3",
   "version": "3.9.5"
  },
  "toc": {
   "base_numbering": 1,
   "nav_menu": {},
   "number_sections": false,
   "sideBar": true,
   "skip_h1_title": false,
   "title_cell": "Table of Contents",
   "title_sidebar": "Contents",
   "toc_cell": false,
   "toc_position": {},
   "toc_section_display": true,
   "toc_window_display": false
  },
  "varInspector": {
   "cols": {
    "lenName": 16,
    "lenType": 16,
    "lenVar": 40
   },
   "kernels_config": {
    "python": {
     "delete_cmd_postfix": "",
     "delete_cmd_prefix": "del ",
     "library": "var_list.py",
     "varRefreshCmd": "print(var_dic_list())"
    },
    "r": {
     "delete_cmd_postfix": ") ",
     "delete_cmd_prefix": "rm(",
     "library": "var_list.r",
     "varRefreshCmd": "cat(var_dic_list()) "
    }
   },
   "types_to_exclude": [
    "module",
    "function",
    "builtin_function_or_method",
    "instance",
    "_Feature"
   ],
   "window_display": false
  }
 },
 "nbformat": 4,
 "nbformat_minor": 2
}

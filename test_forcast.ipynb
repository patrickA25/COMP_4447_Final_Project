{
 "cells": [
  {
   "cell_type": "markdown",
   "metadata": {},
   "source": [
    "# Loading in all requied packages"
   ]
  },
  {
   "cell_type": "code",
   "execution_count": null,
   "metadata": {},
   "outputs": [],
   "source": [
    "import pandas as pd\n",
    "import numpy as np\n",
    "import math\n",
    "import datetime as dt\n",
    "import matplotlib.pyplot as plt\n",
    "from sklearn.metrics import mean_squared_error, mean_absolute_error, explained_variance_score, r2_score \n",
    "from sklearn.metrics import mean_poisson_deviance, mean_gamma_deviance, accuracy_score\n",
    "from sklearn.preprocessing import MinMaxScaler\n",
    "import tensorflow as tf\n",
    "from tensorflow.keras.models import Sequential\n",
    "from tensorflow.keras.layers import Dense, Dropout\n",
    "from tensorflow.keras.layers import LSTM\n",
    "from itertools import cycle\n",
    "import plotly.graph_objects as go\n",
    "import plotly.express as px\n",
    "from plotly.subplots import make_subplots\n",
    "import pycoingecko as pycoin"
   ]
  },
  {
   "cell_type": "markdown",
   "metadata": {},
   "source": [
    "# Pulling in data from CoinGecko API"
   ]
  },
  {
   "cell_type": "code",
   "execution_count": null,
   "metadata": {},
   "outputs": [],
   "source": [
    "cg = pycoin.CoinGeckoAPI()\n",
    "raw_data = cg.get_coin_market_chart_by_id(id = 'bitcoin',vs_currency= 'usd',days = 1000)\n",
    "price_data = pd.json_normalize(raw_data,record_path = 'prices')\n",
    "price_data['clean_date'] = pd.to_datetime(price_data[0], unit='ms')\n",
    "df = price_data.copy()"
   ]
  },
  {
   "cell_type": "markdown",
   "metadata": {},
   "source": [
    "# Normalizing dataset"
   ]
  },
  {
   "cell_type": "code",
   "execution_count": 36,
   "metadata": {},
   "outputs": [],
   "source": [
    "del price_data['clean_date']\n",
    "del price_data[0]\n",
    "#print(price_data)\n",
    "scaler = MinMaxScaler(feature_range=(0,1))\n",
    "close_df = scaler.fit_transform(np.array(price_data).reshape(-1,1))\n"
   ]
  },
  {
   "cell_type": "markdown",
   "metadata": {},
   "source": [
    "# Splitting the data set into a training and test DF"
   ]
  },
  {
   "cell_type": "code",
   "execution_count": 37,
   "metadata": {},
   "outputs": [
    {
     "name": "stdout",
     "output_type": "stream",
     "text": [
      "train_data:  (900, 1)\n",
      "test_data:  (101, 1)\n"
     ]
    }
   ],
   "source": [
    "training_size = int(len(close_df)*0.9)\n",
    "test_size = len(close_df)-training_size\n",
    "train_data,test_data = close_df[0:training_size,:],close_df[training_size:len(close_df),:1]\n",
    "print('train_data: ', train_data.shape)\n",
    "print('test_data: ', test_data.shape)"
   ]
  },
  {
   "cell_type": "markdown",
   "metadata": {},
   "source": [
    "# Making the test and train data matrix"
   ]
  },
  {
   "cell_type": "code",
   "execution_count": 38,
   "metadata": {},
   "outputs": [],
   "source": [
    "# convert an array of values into a dataset matrix\n",
    "def create_dataset(dataset, time_step=1):\n",
    "    dataX, dataY = [], []\n",
    "    for i in range(len(dataset)-time_step-1):\n",
    "        a = dataset[i:(i+time_step), 0]  \n",
    "        dataX.append(a)\n",
    "        dataY.append(dataset[i + time_step, 0])\n",
    "    return np.array(dataX), np.array(dataY)"
   ]
  },
  {
   "cell_type": "code",
   "execution_count": 39,
   "metadata": {},
   "outputs": [],
   "source": [
    "time_step = 10 \n",
    "X_train, y_train = create_dataset(train_data, time_step)\n",
    "X_test, y_test = create_dataset(test_data, time_step)"
   ]
  },
  {
   "cell_type": "code",
   "execution_count": 40,
   "metadata": {},
   "outputs": [
    {
     "name": "stdout",
     "output_type": "stream",
     "text": [
      "X_train:  (889, 10)\n",
      "X_test:  (90, 10, 1)\n"
     ]
    }
   ],
   "source": [
    "# reshape input to be [samples, time steps, features] which is required for LSTMX_\n",
    "train = X_train.reshape(X_train.shape[0],X_train.shape[1] , 1)\n",
    "X_test = X_test.reshape(X_test.shape[0],X_test.shape[1] , 1)\n",
    "print(\"X_train: \", X_train.shape)\n",
    "print(\"X_test: \", X_test.shape)"
   ]
  },
  {
   "cell_type": "markdown",
   "metadata": {},
   "source": [
    "# Setting the model perameters"
   ]
  },
  {
   "cell_type": "code",
   "execution_count": 41,
   "metadata": {},
   "outputs": [],
   "source": [
    "model = Sequential() \n",
    "# Adding a LSTM layer with 10 internal units\n",
    "model.add(LSTM(10,input_shape=(None,1),activation='relu'))\n",
    "# Adding a Dense layer with 1 units.\n",
    "model.add(Dense(1))\n",
    "# Loss function + optimizer\n",
    "model.compile(loss='mean_squared_error',optimizer='adam')"
   ]
  },
  {
   "cell_type": "markdown",
   "metadata": {},
   "source": [
    "# Fitting the model"
   ]
  },
  {
   "cell_type": "code",
   "execution_count": 42,
   "metadata": {},
   "outputs": [
    {
     "name": "stdout",
     "output_type": "stream",
     "text": [
      "Epoch 1/100\n",
      "89/89 [==============================] - 2s 9ms/step - loss: 0.2305 - val_loss: 0.3153\n",
      "Epoch 2/100\n",
      "89/89 [==============================] - 1s 8ms/step - loss: 0.1424 - val_loss: 0.2157\n",
      "Epoch 3/100\n",
      "89/89 [==============================] - 0s 5ms/step - loss: 0.1141 - val_loss: 0.1721\n",
      "Epoch 4/100\n",
      "89/89 [==============================] - 0s 4ms/step - loss: 0.1032 - val_loss: 0.1417\n",
      "Epoch 5/100\n",
      "89/89 [==============================] - 0s 5ms/step - loss: 0.0977 - val_loss: 0.1226\n",
      "Epoch 6/100\n",
      "89/89 [==============================] - 0s 5ms/step - loss: 0.0952 - val_loss: 0.1094\n",
      "Epoch 7/100\n",
      "89/89 [==============================] - 0s 5ms/step - loss: 0.0940 - val_loss: 0.1003\n",
      "Epoch 8/100\n",
      "89/89 [==============================] - 0s 5ms/step - loss: 0.0936 - val_loss: 0.0961\n",
      "Epoch 9/100\n",
      "89/89 [==============================] - 0s 5ms/step - loss: 0.0936 - val_loss: 0.0933\n",
      "Epoch 10/100\n",
      "89/89 [==============================] - 0s 5ms/step - loss: 0.0935 - val_loss: 0.0928\n",
      "Epoch 11/100\n",
      "89/89 [==============================] - 0s 4ms/step - loss: 0.0935 - val_loss: 0.0905\n",
      "Epoch 12/100\n",
      "89/89 [==============================] - 0s 4ms/step - loss: 0.0935 - val_loss: 0.0899\n",
      "Epoch 13/100\n",
      "89/89 [==============================] - 0s 5ms/step - loss: 0.0934 - val_loss: 0.0901\n",
      "Epoch 14/100\n",
      "89/89 [==============================] - 0s 5ms/step - loss: 0.0935 - val_loss: 0.0887\n",
      "Epoch 15/100\n",
      "89/89 [==============================] - 0s 4ms/step - loss: 0.0934 - val_loss: 0.0892\n",
      "Epoch 16/100\n",
      "89/89 [==============================] - 0s 4ms/step - loss: 0.0935 - val_loss: 0.0906\n",
      "Epoch 17/100\n",
      "89/89 [==============================] - 0s 5ms/step - loss: 0.0935 - val_loss: 0.0901\n",
      "Epoch 18/100\n",
      "89/89 [==============================] - 0s 5ms/step - loss: 0.0934 - val_loss: 0.0892\n",
      "Epoch 19/100\n",
      "89/89 [==============================] - 0s 5ms/step - loss: 0.0935 - val_loss: 0.0905\n",
      "Epoch 20/100\n",
      "89/89 [==============================] - 0s 4ms/step - loss: 0.0935 - val_loss: 0.0903\n",
      "Epoch 21/100\n",
      "89/89 [==============================] - 0s 5ms/step - loss: 0.0935 - val_loss: 0.0905\n",
      "Epoch 22/100\n",
      "89/89 [==============================] - 0s 4ms/step - loss: 0.0934 - val_loss: 0.0913\n",
      "Epoch 23/100\n",
      "89/89 [==============================] - 0s 5ms/step - loss: 0.0934 - val_loss: 0.0897\n",
      "Epoch 24/100\n",
      "89/89 [==============================] - 0s 5ms/step - loss: 0.0935 - val_loss: 0.0882\n",
      "Epoch 25/100\n",
      "89/89 [==============================] - 0s 5ms/step - loss: 0.0935 - val_loss: 0.0895\n",
      "Epoch 26/100\n",
      "89/89 [==============================] - 1s 6ms/step - loss: 0.0934 - val_loss: 0.0889\n",
      "Epoch 27/100\n",
      "89/89 [==============================] - 1s 6ms/step - loss: 0.0934 - val_loss: 0.0897\n",
      "Epoch 28/100\n",
      "89/89 [==============================] - 0s 6ms/step - loss: 0.0935 - val_loss: 0.0905\n",
      "Epoch 29/100\n",
      "89/89 [==============================] - 0s 6ms/step - loss: 0.0935 - val_loss: 0.0906\n",
      "Epoch 30/100\n",
      "89/89 [==============================] - 0s 5ms/step - loss: 0.0934 - val_loss: 0.0883\n",
      "Epoch 31/100\n",
      "89/89 [==============================] - 0s 5ms/step - loss: 0.0935 - val_loss: 0.0915\n",
      "Epoch 32/100\n",
      "89/89 [==============================] - 0s 5ms/step - loss: 0.0934 - val_loss: 0.0893\n",
      "Epoch 33/100\n",
      "89/89 [==============================] - 0s 5ms/step - loss: 0.0935 - val_loss: 0.0902\n",
      "Epoch 34/100\n",
      "89/89 [==============================] - 0s 5ms/step - loss: 0.0935 - val_loss: 0.0895\n",
      "Epoch 35/100\n",
      "89/89 [==============================] - 1s 6ms/step - loss: 0.0935 - val_loss: 0.0900\n",
      "Epoch 36/100\n",
      "89/89 [==============================] - 1s 7ms/step - loss: 0.0935 - val_loss: 0.0900\n",
      "Epoch 37/100\n",
      "89/89 [==============================] - 0s 5ms/step - loss: 0.0935 - val_loss: 0.0896\n",
      "Epoch 38/100\n",
      "89/89 [==============================] - 0s 5ms/step - loss: 0.0935 - val_loss: 0.0890\n",
      "Epoch 39/100\n",
      "89/89 [==============================] - 0s 5ms/step - loss: 0.0935 - val_loss: 0.0888\n",
      "Epoch 40/100\n",
      "89/89 [==============================] - 0s 5ms/step - loss: 0.0934 - val_loss: 0.0892\n",
      "Epoch 41/100\n",
      "89/89 [==============================] - 0s 5ms/step - loss: 0.0935 - val_loss: 0.0892\n",
      "Epoch 42/100\n",
      "89/89 [==============================] - 0s 5ms/step - loss: 0.0934 - val_loss: 0.0900\n",
      "Epoch 43/100\n",
      "89/89 [==============================] - 0s 5ms/step - loss: 0.0935 - val_loss: 0.0909\n",
      "Epoch 44/100\n",
      "89/89 [==============================] - 1s 6ms/step - loss: 0.0934 - val_loss: 0.0893\n",
      "Epoch 45/100\n",
      "89/89 [==============================] - 0s 5ms/step - loss: 0.0936 - val_loss: 0.0898\n",
      "Epoch 46/100\n",
      "89/89 [==============================] - 0s 5ms/step - loss: 0.0935 - val_loss: 0.0888\n",
      "Epoch 47/100\n",
      "89/89 [==============================] - 0s 5ms/step - loss: 0.0935 - val_loss: 0.0898\n",
      "Epoch 48/100\n",
      "89/89 [==============================] - 0s 5ms/step - loss: 0.0935 - val_loss: 0.0899\n",
      "Epoch 49/100\n",
      "89/89 [==============================] - 0s 5ms/step - loss: 0.0935 - val_loss: 0.0912\n",
      "Epoch 50/100\n",
      "89/89 [==============================] - 0s 5ms/step - loss: 0.0934 - val_loss: 0.0890\n",
      "Epoch 51/100\n",
      "89/89 [==============================] - 0s 5ms/step - loss: 0.0935 - val_loss: 0.0891\n",
      "Epoch 52/100\n",
      "89/89 [==============================] - 0s 5ms/step - loss: 0.0935 - val_loss: 0.0899\n",
      "Epoch 53/100\n",
      "89/89 [==============================] - 0s 5ms/step - loss: 0.0935 - val_loss: 0.0896\n",
      "Epoch 54/100\n",
      "89/89 [==============================] - 0s 5ms/step - loss: 0.0935 - val_loss: 0.0897\n",
      "Epoch 55/100\n",
      "89/89 [==============================] - 0s 5ms/step - loss: 0.0935 - val_loss: 0.0892\n",
      "Epoch 56/100\n",
      "89/89 [==============================] - 0s 5ms/step - loss: 0.0935 - val_loss: 0.0890\n",
      "Epoch 57/100\n",
      "89/89 [==============================] - 0s 5ms/step - loss: 0.0935 - val_loss: 0.0891\n",
      "Epoch 58/100\n",
      "89/89 [==============================] - 0s 5ms/step - loss: 0.0935 - val_loss: 0.0900\n",
      "Epoch 59/100\n",
      "89/89 [==============================] - 0s 5ms/step - loss: 0.0935 - val_loss: 0.0897\n",
      "Epoch 60/100\n",
      "89/89 [==============================] - 0s 5ms/step - loss: 0.0935 - val_loss: 0.0896\n",
      "Epoch 61/100\n",
      "89/89 [==============================] - 0s 5ms/step - loss: 0.0935 - val_loss: 0.0904\n",
      "Epoch 62/100\n",
      "89/89 [==============================] - 0s 5ms/step - loss: 0.0935 - val_loss: 0.0894\n",
      "Epoch 63/100\n",
      "89/89 [==============================] - 0s 5ms/step - loss: 0.0935 - val_loss: 0.0894\n",
      "Epoch 64/100\n",
      "89/89 [==============================] - 0s 5ms/step - loss: 0.0935 - val_loss: 0.0910\n",
      "Epoch 65/100\n",
      "89/89 [==============================] - 0s 5ms/step - loss: 0.0934 - val_loss: 0.0889\n",
      "Epoch 66/100\n",
      "89/89 [==============================] - 0s 5ms/step - loss: 0.0935 - val_loss: 0.0889\n",
      "Epoch 67/100\n",
      "89/89 [==============================] - 0s 5ms/step - loss: 0.0935 - val_loss: 0.0899\n",
      "Epoch 68/100\n",
      "89/89 [==============================] - 1s 6ms/step - loss: 0.0935 - val_loss: 0.0881\n",
      "Epoch 69/100\n",
      "89/89 [==============================] - 0s 5ms/step - loss: 0.0936 - val_loss: 0.0883\n",
      "Epoch 70/100\n",
      "89/89 [==============================] - 0s 5ms/step - loss: 0.0934 - val_loss: 0.0898\n",
      "Epoch 71/100\n",
      "89/89 [==============================] - 0s 5ms/step - loss: 0.0935 - val_loss: 0.0893\n",
      "Epoch 72/100\n",
      "89/89 [==============================] - 0s 5ms/step - loss: 0.0934 - val_loss: 0.0896\n",
      "Epoch 73/100\n",
      "89/89 [==============================] - 0s 5ms/step - loss: 0.0935 - val_loss: 0.0904\n",
      "Epoch 74/100\n",
      "89/89 [==============================] - 0s 5ms/step - loss: 0.0935 - val_loss: 0.0902\n",
      "Epoch 75/100\n",
      "89/89 [==============================] - 0s 5ms/step - loss: 0.0935 - val_loss: 0.0904\n",
      "Epoch 76/100\n",
      "89/89 [==============================] - 0s 5ms/step - loss: 0.0935 - val_loss: 0.0890\n",
      "Epoch 77/100\n",
      "89/89 [==============================] - 0s 5ms/step - loss: 0.0935 - val_loss: 0.0888\n",
      "Epoch 78/100\n",
      "89/89 [==============================] - 0s 5ms/step - loss: 0.0936 - val_loss: 0.0884\n",
      "Epoch 79/100\n",
      "89/89 [==============================] - 0s 5ms/step - loss: 0.0935 - val_loss: 0.0896\n",
      "Epoch 80/100\n",
      "89/89 [==============================] - 0s 5ms/step - loss: 0.0935 - val_loss: 0.0888\n",
      "Epoch 81/100\n",
      "89/89 [==============================] - 0s 5ms/step - loss: 0.0935 - val_loss: 0.0892\n",
      "Epoch 82/100\n",
      "89/89 [==============================] - 0s 5ms/step - loss: 0.0935 - val_loss: 0.0885\n",
      "Epoch 83/100\n",
      "89/89 [==============================] - 0s 5ms/step - loss: 0.0935 - val_loss: 0.0904\n",
      "Epoch 84/100\n",
      "89/89 [==============================] - 0s 5ms/step - loss: 0.0935 - val_loss: 0.0893\n",
      "Epoch 85/100\n",
      "89/89 [==============================] - 0s 5ms/step - loss: 0.0934 - val_loss: 0.0884\n",
      "Epoch 86/100\n",
      "89/89 [==============================] - 0s 5ms/step - loss: 0.0935 - val_loss: 0.0905\n",
      "Epoch 87/100\n",
      "89/89 [==============================] - 0s 5ms/step - loss: 0.0935 - val_loss: 0.0905\n",
      "Epoch 88/100\n",
      "89/89 [==============================] - 0s 5ms/step - loss: 0.0935 - val_loss: 0.0901\n",
      "Epoch 89/100\n",
      "89/89 [==============================] - 0s 5ms/step - loss: 0.0935 - val_loss: 0.0882\n",
      "Epoch 90/100\n",
      "89/89 [==============================] - 0s 5ms/step - loss: 0.0935 - val_loss: 0.0884\n",
      "Epoch 91/100\n",
      "89/89 [==============================] - 0s 5ms/step - loss: 0.0935 - val_loss: 0.0892\n",
      "Epoch 92/100\n",
      "89/89 [==============================] - 0s 5ms/step - loss: 0.0935 - val_loss: 0.0904\n",
      "Epoch 93/100\n",
      "89/89 [==============================] - 0s 5ms/step - loss: 0.0935 - val_loss: 0.0897\n",
      "Epoch 94/100\n",
      "89/89 [==============================] - 0s 5ms/step - loss: 0.0935 - val_loss: 0.0903\n",
      "Epoch 95/100\n",
      "89/89 [==============================] - 0s 5ms/step - loss: 0.0935 - val_loss: 0.0901\n",
      "Epoch 96/100\n",
      "89/89 [==============================] - 0s 5ms/step - loss: 0.0935 - val_loss: 0.0902\n",
      "Epoch 97/100\n",
      "89/89 [==============================] - 0s 6ms/step - loss: 0.0934 - val_loss: 0.0903\n",
      "Epoch 98/100\n",
      "89/89 [==============================] - 0s 5ms/step - loss: 0.0935 - val_loss: 0.0901\n",
      "Epoch 99/100\n",
      "89/89 [==============================] - 0s 5ms/step - loss: 0.0935 - val_loss: 0.0886\n",
      "Epoch 100/100\n",
      "89/89 [==============================] - 0s 5ms/step - loss: 0.0935 - val_loss: 0.0900\n"
     ]
    }
   ],
   "source": [
    "history = model.fit(X_train,y_train,validation_data=(X_test,y_test),epochs=100,batch_size=10,verbose=1)"
   ]
  },
  {
   "cell_type": "markdown",
   "metadata": {},
   "source": [
    "# Ploting the loss function for training and validation Set."
   ]
  },
  {
   "cell_type": "code",
   "execution_count": 43,
   "metadata": {},
   "outputs": [
    {
     "data": {
      "image/png": "[encoded data removed]",
      "text/plain": [
       "<Figure size 432x288 with 1 Axes>"
      ]
     },
     "metadata": {
      "needs_background": "light"
     },
     "output_type": "display_data"
    },
    {
     "data": {
      "text/plain": [
       "<Figure size 432x288 with 0 Axes>"
      ]
     },
     "metadata": {},
     "output_type": "display_data"
    }
   ],
   "source": [
    "loss = history.history['loss']\n",
    "val_loss = history.history['val_loss']\n",
    "epochs = range(len(loss))\n",
    "plt.plot(epochs, loss, 'r', label='Training loss')\n",
    "plt.plot(epochs, val_loss, 'b', label='Validation loss')\n",
    "plt.title('Training and validation loss')\n",
    "plt.legend(loc=0)\n",
    "plt.figure()\n",
    "plt.show()"
   ]
  },
  {
   "cell_type": "markdown",
   "metadata": {},
   "source": [
    "# Making a vecotr of predicted values"
   ]
  },
  {
   "cell_type": "code",
   "execution_count": null,
   "metadata": {},
   "outputs": [],
   "source": [
    "train_predict=model.predict(X_train)\n",
    "test_predict=model.predict(X_test)\n",
    "\n",
    "look_back=time_step\n",
    "trainPredictPlot = np.empty_like(close_df)\n",
    "trainPredictPlot[:, :] = np.nan\n",
    "trainPredictPlot[look_back:len(train_predict)+look_back, :] = train_predict\n",
    "\n",
    "# shift test predictions for plotting\n",
    "testPredictPlot = np.empty_like(close_df)\n",
    "testPredictPlot[:, :] = np.nan\n",
    "testPredictPlot[len(train_predict)+(look_back*2)+1:len(close_df)-1, :] = test_predict\n",
    "\n"
   ]
  },
  {
   "cell_type": "markdown",
   "metadata": {},
   "source": [
    "# Ploting the predicted and actual Values"
   ]
  },
  {
   "cell_type": "code",
   "execution_count": null,
   "metadata": {},
   "outputs": [],
   "source": [
    "names = cycle(['Original close price','Train predicted close price','Test predicted close price'])\n",
    "\n",
    "plotdf = pd.DataFrame({'date': df['clean_date'],\n",
    "                    'original_close': df[1],\n",
    "                    'train_predicted_close' : 0 ,\n",
    "                    'test_predicted_close' : 0})\n",
    "\n",
    "plotdf['train_predicted_close'] = np.nan_to_num(scaler.inverse_transform(trainPredictPlot))\n",
    "plotdf['test_predicted_close'] = np.nan_to_num(scaler.inverse_transform(testPredictPlot))\n",
    "\n",
    "plotdf['train_predicted_close'] = plotdf['train_predicted_close'].replace(0, np.NaN)\n",
    "plotdf['test_predicted_close'] = plotdf['test_predicted_close'].replace(0, np.NaN)\n",
    "\n",
    "fig = px.line(plotdf,x=plotdf['date'], y=[plotdf['original_close'],plotdf['train_predicted_close'],plotdf['test_predicted_close']],\n",
    "                labels={'value':'Stock price','date': 'Date'})\n",
    "fig.update_layout(title_text='Comparision between original vs predicted close price',\n",
    "                plot_bgcolor='white',legend_title_text='Close Price')                               \n",
    "\n",
    "fig.for_each_trace(lambda t:  t.update(name = next(names)))\n",
    "fig.update_xaxes(showgrid=False)\n",
    "fig.update_yaxes(showgrid=False)\n",
    "fig.show()"
   ]
  }
 ],
 "metadata": {
  "kernelspec": {
   "display_name": "Python 3 (ipykernel)",
   "language": "python",
   "name": "python3"
  },
  "language_info": {
   "codemirror_mode": {
    "name": "ipython",
    "version": 3
   },
   "file_extension": ".py",
   "mimetype": "text/x-python",
   "name": "python",
   "nbconvert_exporter": "python",
   "pygments_lexer": "ipython3",
   "version": "3.9.5"
  },
  "toc": {
   "base_numbering": 1,
   "nav_menu": {},
   "number_sections": false,
   "sideBar": true,
   "skip_h1_title": false,
   "title_cell": "Table of Contents",
   "title_sidebar": "Contents",
   "toc_cell": false,
   "toc_position": {},
   "toc_section_display": true,
   "toc_window_display": false
  },
  "varInspector": {
   "cols": {
    "lenName": 16,
    "lenType": 16,
    "lenVar": 40
   },
   "kernels_config": {
    "python": {
     "delete_cmd_postfix": "",
     "delete_cmd_prefix": "del ",
     "library": "var_list.py",
     "varRefreshCmd": "print(var_dic_list())"
    },
    "r": {
     "delete_cmd_postfix": ") ",
     "delete_cmd_prefix": "rm(",
     "library": "var_list.r",
     "varRefreshCmd": "cat(var_dic_list()) "
    }
   },
   "types_to_exclude": [
    "module",
    "function",
    "builtin_function_or_method",
    "instance",
    "_Feature"
   ],
   "window_display": false
  }
 },
 "nbformat": 4,
 "nbformat_minor": 2
}
